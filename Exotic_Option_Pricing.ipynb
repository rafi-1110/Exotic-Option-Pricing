{
 "cells": [
  {
   "cell_type": "markdown",
   "id": "346979b3",
   "metadata": {},
   "source": [
    "# Quantitative Methods in Finance - Python Coursework  - Ar Rafiul Islam: "
   ]
  },
  {
   "cell_type": "markdown",
   "id": "fe0c48f5",
   "metadata": {},
   "source": [
    "**Coursework answers by: Ar Rafiul Islam.**"
   ]
  },
  {
   "cell_type": "markdown",
   "id": "7b752c69",
   "metadata": {},
   "source": [
    "The `ipynb` file includes comments and explanations for the exercises to help the reader understand my way of thinking and understanding while writing the lines of code."
   ]
  },
  {
   "cell_type": "markdown",
   "id": "2f4adcec",
   "metadata": {},
   "source": [
    "There will also be some **\"Notes\"** that will explain why I do things in a certain way or why sometimes running the code might give something not expected or general explanations."
   ]
  },
  {
   "cell_type": "markdown",
   "id": "3929b69e",
   "metadata": {},
   "source": [
    "----"
   ]
  },
  {
   "cell_type": "markdown",
   "id": "43726f74",
   "metadata": {},
   "source": [
    "# Introduction:"
   ]
  },
  {
   "cell_type": "markdown",
   "id": "6a1d1247",
   "metadata": {},
   "source": [
    "## 1. Monte Carlo:"
   ]
  },
  {
   "cell_type": "markdown",
   "id": "f27102ac",
   "metadata": {},
   "source": [
    "**The Monte Carlo Method** is a mathematical technique used to estimate the possible outcomes of an uncertain event. This scheme can be applied to different fields. In this coursework we will be analysing it in the area of option pricing. "
   ]
  },
  {
   "cell_type": "markdown",
   "id": "68d8f2a8",
   "metadata": {},
   "source": [
    "Specifically, **Monte Carlo Method**, in regards to option pricing, involves the following steps:\n",
    "\n",
    "1. Simulating a stock price over a defined period. It requires generating a new stock price in equally spaced time intervals over that specific timeframe. An example would be generating a new stock price every day over a year\n",
    "\n",
    "2. Calculate the payoff and the present value of the function based on the specific parameters such as interest rate, volatility, strike price, and specific payoff function for the option\n",
    "\n",
    "3. Then, simulate this for multiple stock realisations. The higher the number of realisations the more accurate the results will be\n",
    "\n",
    "4. Finally, compute an average of all the discounted prices over all the realisations to find the estimated price of the option"
   ]
  },
  {
   "cell_type": "markdown",
   "id": "e7860085",
   "metadata": {},
   "source": [
    "In simple terms, the **Monte Carlo** method involves assigning multiple values to a variable that involves uncertainty (in our case how the stock price will move) and then averaging the results to get an estimate of the particular financial product."
   ]
  },
  {
   "cell_type": "markdown",
   "id": "81764007",
   "metadata": {},
   "source": [
    "**Note**: Although increasing the number of realisations and the time period will improve accuracy levels, it will reduce the performance in generating results."
   ]
  },
  {
   "cell_type": "markdown",
   "id": "d1b89a44",
   "metadata": {},
   "source": [
    "## 2. Exotic Options:"
   ]
  },
  {
   "cell_type": "markdown",
   "id": "292a90ef",
   "metadata": {},
   "source": [
    "Exotic options are a specific type of options that are traded over-the-counter (OTC) rather than exchanges due to their properties. Usually, financial products traded OTC tend to be tailored to the needs of the individual/financial institution.  "
   ]
  },
  {
   "cell_type": "markdown",
   "id": "b0977639",
   "metadata": {},
   "source": [
    "Some of the main features of Exotic options are:\n",
    "1. Time dependency\n",
    "2. Cashflows\n",
    "3. Path dependence (Strong and Weak dependence)\n",
    "4. Dimensionality (number of independent variables)"
   ]
  },
  {
   "cell_type": "markdown",
   "id": "65c74ea4",
   "metadata": {},
   "source": [
    "One important feature to keep in mind is path dependency. Differently from the \"standard\" European options where the payoff is determined only by the price of the underlying asset at maturity, with Exotic options the \"path\"/trajectory of the underlying asset has a big implication on its final price. We will see this more in detail in the following examples."
   ]
  },
  {
   "cell_type": "markdown",
   "id": "8d0eb8df",
   "metadata": {},
   "source": [
    "## 3. General Plan:"
   ]
  },
  {
   "cell_type": "markdown",
   "id": "ce4fd6be",
   "metadata": {},
   "source": [
    "In this report I will do the following:"
   ]
  },
  {
   "cell_type": "markdown",
   "id": "03e34b39",
   "metadata": {},
   "source": [
    "Introduce Asian Fixed Strike Options and price them using different parameters. Then, I will show the impact of the change of different parameters on the price of the option and compare the results."
   ]
  },
  {
   "cell_type": "markdown",
   "id": "3b77b05e",
   "metadata": {},
   "source": [
    "Then, I will introduce Asian Floating Options and price them in a similar way. I will also compare how the prices for calls and puts change between the different types of strikes using a common simulation of stock prices. As an additional part, I will briefly show how the price of the Floating option changes by changing its parameters in a similar way to Fixed options.  "
   ]
  },
  {
   "cell_type": "markdown",
   "id": "3f0fc9b5",
   "metadata": {},
   "source": [
    "After, I will use Geometric averaging to price both floating and fixed strike options and compare them with Arithmetic averaging."
   ]
  },
  {
   "cell_type": "markdown",
   "id": "3880a323",
   "metadata": {},
   "source": [
    "Finally, I will create a Supershare option, estimate some options based on different strike values, and then explain the differences."
   ]
  },
  {
   "cell_type": "markdown",
   "id": "b064085d",
   "metadata": {},
   "source": [
    "There will be explanations as we go along the report and a conclusion summarising the report findings."
   ]
  },
  {
   "cell_type": "markdown",
   "id": "aa9fdc5f",
   "metadata": {},
   "source": [
    "-----"
   ]
  },
  {
   "cell_type": "markdown",
   "id": "bdef6aa7",
   "metadata": {},
   "source": [
    "# Asian Options:"
   ]
  },
  {
   "cell_type": "markdown",
   "id": "2f8bab63",
   "metadata": {},
   "source": [
    "Asian options, generally speaking, have a payoff that depends on \"some\" average value of the underlying from the start date to expiry. The average we need to compute depends on the particular type of Asian option. We are going to look at two types: \n",
    " - Asian Fixed Strike Options\n",
    " - Asian Floating Strike Options"
   ]
  },
  {
   "cell_type": "markdown",
   "id": "f5c5f870",
   "metadata": {},
   "source": [
    "**Note**: For the first part we will be looking at Arithmetic averaging."
   ]
  },
  {
   "cell_type": "markdown",
   "id": "3cd121fd",
   "metadata": {},
   "source": [
    "## 1. Asian Fixed Strike Options - Arithmetic Averaging:"
   ]
  },
  {
   "cell_type": "markdown",
   "id": "17607456",
   "metadata": {},
   "source": [
    "The payoffs for the Asian Fixed Strike Option are the following:"
   ]
  },
  {
   "cell_type": "markdown",
   "id": "729c3c24",
   "metadata": {},
   "source": [
    "For a Call option: $$C_T = max(A - K, 0)$$\n",
    "Where $A$ represents the average of the stock prices up to maturity and $K$ represents the strike price."
   ]
  },
  {
   "cell_type": "markdown",
   "id": "645d3de2",
   "metadata": {},
   "source": [
    "For a Put option: $$P_T = max(K - A, 0)$$\n",
    "Where $A$ represents the average of the stock prices up to maturity and $K$ represents the strike price."
   ]
  },
  {
   "cell_type": "markdown",
   "id": "e0452a22",
   "metadata": {},
   "source": [
    "Here, the strike price, **K** is known and fixed. But the average of the stock prices, **A**, varies with the trajectory of the stock movement.  "
   ]
  },
  {
   "cell_type": "markdown",
   "id": "fb07be89",
   "metadata": {},
   "source": [
    "**Note**: Next, I will use the code from Professor De Keijzer to generate the stock simulation and also a guide to create my own functions for the options."
   ]
  },
  {
   "cell_type": "markdown",
   "id": "32fadc87",
   "metadata": {},
   "source": [
    "**Reference**: Dr Bart De Keijzer(2023). Monte Carlo Simulation for Option Pricing.Monte Carlo Valuation of Asian Fixed-Strike Call Option in Python. Scientific Computing in Finance (last slide)."
   ]
  },
  {
   "cell_type": "code",
   "execution_count": 1,
   "id": "fb9957f3",
   "metadata": {},
   "outputs": [
    {
     "name": "stdout",
     "output_type": "stream",
     "text": [
      "Estimated present value is 49.995992\n"
     ]
    }
   ],
   "source": [
    "from numpy import sqrt, exp, cumsum, sum, maximum, mean\n",
    "from numpy.random import standard_normal\n",
    "import numpy as np\n",
    "import pandas as pd\n",
    "\n",
    "# Parameters\n",
    "S0 = 100.; T = 1.0; K = 50; r = 0.02; sigma = 0.1; M = 200; dt = T / M; I = 1000000\n",
    "\n",
    "def inner_value(S):\n",
    "    # Intrinsic value for a fixed-strike Asian call option\n",
    "    # This uses a list comprehension (though there is probably a faster, vectorised way possible)\n",
    "    return np.array([max(V - K,0) for V in mean(S, axis=0)])\n",
    "\n",
    "# Simulate I paths with M time steps\n",
    "S = S0 * exp(cumsum((r - 0.5 * sigma ** 2) * dt + sigma * sqrt(dt) * \n",
    "                          standard_normal((M, I)), axis=0))\n",
    "\n",
    "# Calculate the Monte Carlo estimator\n",
    "CT = exp(-r * T) * mean(inner_value(S))\n",
    "print(\"Estimated present value is %f\" % CT)"
   ]
  },
  {
   "cell_type": "markdown",
   "id": "31c909bb",
   "metadata": {},
   "source": [
    "**Note**: The price of Professor De Keijzer's option price is really high due to it's low strike price (K=50). It gives a greater chance of the option being **in-the-money**, increasing it's value."
   ]
  },
  {
   "cell_type": "markdown",
   "id": "de7a308e",
   "metadata": {},
   "source": [
    "-----"
   ]
  },
  {
   "cell_type": "markdown",
   "id": "6a61c7f4",
   "metadata": {},
   "source": [
    "I will create two functions, for calls and puts by changing the function above."
   ]
  },
  {
   "cell_type": "code",
   "execution_count": 2,
   "id": "31cdfd26",
   "metadata": {},
   "outputs": [],
   "source": [
    "# Setting the parameters as asked in the coursework:\n",
    "S0 = 100.; T = 1.0; K = 100; r = 0.05; sigma = 0.2; M = 252; dt = T / M; I = 100000\n",
    "\n",
    "# Simulating the numbers again with coursework parameters\n",
    "simulation1 = S0 * exp(cumsum((r - 0.5 * sigma ** 2) * dt + sigma * sqrt(dt) * standard_normal((M, I)), axis=0))"
   ]
  },
  {
   "cell_type": "code",
   "execution_count": 3,
   "id": "b87a8541",
   "metadata": {},
   "outputs": [],
   "source": [
    "# Function for a call\n",
    "def present_value_for_asian_fixed_call(S, rate, T=1):\n",
    "    payoff = np.array([max(V - K,0) for V in mean(S, axis=0)])\n",
    "    return exp(-r * T) * mean(payoff) # Monte Carlo estimator"
   ]
  },
  {
   "cell_type": "code",
   "execution_count": 4,
   "id": "fd65e206",
   "metadata": {},
   "outputs": [],
   "source": [
    "# Function for a pull\n",
    "def present_value_for_asian_fixed_put(S, rate, T=1):\n",
    "    payoff = np.array([max(K - V,0) for V in mean(S, axis=0)])\n",
    "    return exp(-r * T) * mean(payoff) # Monte Carlo estimator"
   ]
  },
  {
   "cell_type": "markdown",
   "id": "0034e8b8",
   "metadata": {},
   "source": [
    "Simulating call and put prices with the coursework-specific parameters - i.e initial stock = 100, Strike = 100, Time to expiry = 1 year, Volatility = 20%, and risk-free rate = 5%."
   ]
  },
  {
   "cell_type": "markdown",
   "id": "8d1b76e9",
   "metadata": {},
   "source": [
    "**Note**: The only difference is that I use `K` to denote my strike price throughout the report."
   ]
  },
  {
   "cell_type": "code",
   "execution_count": 5,
   "id": "8c2c2d87",
   "metadata": {},
   "outputs": [
    {
     "name": "stdout",
     "output_type": "stream",
     "text": [
      "The present value of a call option with the given paramaters is: 5.74\n"
     ]
    }
   ],
   "source": [
    "C0 = present_value_for_asian_fixed_call(simulation1, rate=r)\n",
    "print(\"The present value of a call option with the given paramaters is:\" , round(C0,4))"
   ]
  },
  {
   "cell_type": "code",
   "execution_count": 6,
   "id": "2facf65d",
   "metadata": {},
   "outputs": [
    {
     "name": "stdout",
     "output_type": "stream",
     "text": [
      "The present value of a put option with the given paramaters is: 3.3646\n"
     ]
    }
   ],
   "source": [
    "P0 = present_value_for_asian_fixed_put(simulation1, rate=r)\n",
    "print(\"The present value of a put option with the given paramaters is:\" ,round(P0,4))"
   ]
  },
  {
   "cell_type": "markdown",
   "id": "3ac02178",
   "metadata": {},
   "source": [
    "**Observation**: Running the simulation multiple times I found out that the estimated value of the call tends to range between 5.5 and 5.7 but can be higher or lower. Whereas, the put ranges between 3.3 and 3.5."
   ]
  },
  {
   "cell_type": "markdown",
   "id": "afdbe309",
   "metadata": {},
   "source": [
    "## Testing with parameters:"
   ]
  },
  {
   "cell_type": "markdown",
   "id": "508343ff",
   "metadata": {},
   "source": [
    "Now, I will change one of the parameters while keeping the others fixed to see the change in the value of the option. I will do this step for interest rates, volatility, and strike price"
   ]
  },
  {
   "cell_type": "markdown",
   "id": "22d3f0bb",
   "metadata": {},
   "source": [
    "### Interest rates:"
   ]
  },
  {
   "cell_type": "markdown",
   "id": "e0cf2b7c",
   "metadata": {},
   "source": [
    "Now, changing the interest rate while keeping the other variables fixed. First, will set the interest rate to 1% and check for both option types and finally increase it to 15% and test it for both option types."
   ]
  },
  {
   "cell_type": "code",
   "execution_count": 7,
   "id": "229dd15d",
   "metadata": {},
   "outputs": [],
   "source": [
    "# Simulating new prices with r=0.01\n",
    "S0 = 100.; T = 1.0; K = 100; r = 0.01; sigma = 0.2; M = 252; dt = T / M; I = 100000\n",
    "simulation2 = S0 * exp(cumsum((r - 0.5 * sigma ** 2) * dt + sigma * sqrt(dt) * standard_normal((M, I)), axis=0))"
   ]
  },
  {
   "cell_type": "code",
   "execution_count": 8,
   "id": "16002740",
   "metadata": {},
   "outputs": [
    {
     "name": "stdout",
     "output_type": "stream",
     "text": [
      "Call price: 4.8809 \n",
      "Put price: 4.2961\n"
     ]
    }
   ],
   "source": [
    "# Simulating the option prices with r=0.01\n",
    "C1 = present_value_for_asian_fixed_call(simulation2, rate=r)\n",
    "P1 = present_value_for_asian_fixed_put(simulation2, rate=r)\n",
    "\n",
    "print(f\"Call price: {round(C1,4)}\", f\"\\nPut price: {round(P1,4)}\")"
   ]
  },
  {
   "cell_type": "markdown",
   "id": "dc649b7e",
   "metadata": {},
   "source": [
    "Now with interest rate equal to 15%."
   ]
  },
  {
   "cell_type": "code",
   "execution_count": 9,
   "id": "54f7162b",
   "metadata": {},
   "outputs": [
    {
     "name": "stdout",
     "output_type": "stream",
     "text": [
      "Call price: 8.4496 \n",
      "Put price: 1.6366\n"
     ]
    }
   ],
   "source": [
    "# Calculating new prices with r=0.15\n",
    "S0 = 100.; T = 1.0; K = 100; r = 0.15; sigma = 0.2; M = 252; dt = T / M; I = 100000\n",
    "simulation3 = S0 * exp(cumsum((r - 0.5 * sigma ** 2) * dt + sigma * sqrt(dt) * standard_normal((M, I)), axis=0))\n",
    "\n",
    "# Calculating the option prices with r=0.01\n",
    "C2 = present_value_for_asian_fixed_call(simulation3, rate=r)\n",
    "P2 = present_value_for_asian_fixed_put(simulation3, rate=r)\n",
    "\n",
    "print(f\"Call price: {round(C2,4)}\" , f\"\\nPut price: {round(P2,4)}\")"
   ]
  },
  {
   "cell_type": "code",
   "execution_count": 10,
   "id": "8998e6c3",
   "metadata": {},
   "outputs": [
    {
     "data": {
      "text/html": [
       "<div>\n",
       "<style scoped>\n",
       "    .dataframe tbody tr th:only-of-type {\n",
       "        vertical-align: middle;\n",
       "    }\n",
       "\n",
       "    .dataframe tbody tr th {\n",
       "        vertical-align: top;\n",
       "    }\n",
       "\n",
       "    .dataframe thead th {\n",
       "        text-align: right;\n",
       "    }\n",
       "</style>\n",
       "<table border=\"1\" class=\"dataframe\">\n",
       "  <thead>\n",
       "    <tr style=\"text-align: right;\">\n",
       "      <th></th>\n",
       "      <th>rate = 1%</th>\n",
       "      <th>rate = 5%</th>\n",
       "      <th>rate = 15%</th>\n",
       "    </tr>\n",
       "  </thead>\n",
       "  <tbody>\n",
       "    <tr>\n",
       "      <th>Call</th>\n",
       "      <td>4.880946</td>\n",
       "      <td>5.740008</td>\n",
       "      <td>8.449643</td>\n",
       "    </tr>\n",
       "    <tr>\n",
       "      <th>Put</th>\n",
       "      <td>4.296107</td>\n",
       "      <td>3.364574</td>\n",
       "      <td>1.636626</td>\n",
       "    </tr>\n",
       "  </tbody>\n",
       "</table>\n",
       "</div>"
      ],
      "text/plain": [
       "      rate = 1%  rate = 5%  rate = 15%\n",
       "Call   4.880946   5.740008    8.449643\n",
       "Put    4.296107   3.364574    1.636626"
      ]
     },
     "execution_count": 10,
     "metadata": {},
     "output_type": "execute_result"
    }
   ],
   "source": [
    "# Creating a dataframe\n",
    "rates_data = {\n",
    "    \"rate = 1%\": pd.Series([C1, P1], index=[\"Call\", \"Put\"]), # The new lower rate\n",
    "    \"rate = 5%\": pd.Series([C0, P0], index=[\"Call\", \"Put\"]), # The default rate at the beginning\n",
    "    \"rate = 15%\": pd.Series([C2, P2], index=[\"Call\", \"Put\"]) # The new upper rate\n",
    "}\n",
    "\n",
    "rate_df = pd.DataFrame(rates_data)\n",
    "rate_df"
   ]
  },
  {
   "cell_type": "code",
   "execution_count": 11,
   "id": "63c431be",
   "metadata": {},
   "outputs": [
    {
     "data": {
      "text/html": [
       "<div>\n",
       "<style scoped>\n",
       "    .dataframe tbody tr th:only-of-type {\n",
       "        vertical-align: middle;\n",
       "    }\n",
       "\n",
       "    .dataframe tbody tr th {\n",
       "        vertical-align: top;\n",
       "    }\n",
       "\n",
       "    .dataframe thead th {\n",
       "        text-align: right;\n",
       "    }\n",
       "</style>\n",
       "<table border=\"1\" class=\"dataframe\">\n",
       "  <thead>\n",
       "    <tr style=\"text-align: right;\">\n",
       "      <th></th>\n",
       "      <th>Call</th>\n",
       "      <th>Put</th>\n",
       "    </tr>\n",
       "  </thead>\n",
       "  <tbody>\n",
       "    <tr>\n",
       "      <th>rate = 1%</th>\n",
       "      <td>4.880946</td>\n",
       "      <td>4.296107</td>\n",
       "    </tr>\n",
       "    <tr>\n",
       "      <th>rate = 5%</th>\n",
       "      <td>5.740008</td>\n",
       "      <td>3.364574</td>\n",
       "    </tr>\n",
       "    <tr>\n",
       "      <th>rate = 15%</th>\n",
       "      <td>8.449643</td>\n",
       "      <td>1.636626</td>\n",
       "    </tr>\n",
       "  </tbody>\n",
       "</table>\n",
       "</div>"
      ],
      "text/plain": [
       "                Call       Put\n",
       "rate = 1%   4.880946  4.296107\n",
       "rate = 5%   5.740008  3.364574\n",
       "rate = 15%  8.449643  1.636626"
      ]
     },
     "execution_count": 11,
     "metadata": {},
     "output_type": "execute_result"
    }
   ],
   "source": [
    "# Visualising it better by using transpose\n",
    "rate_df.T"
   ]
  },
  {
   "cell_type": "markdown",
   "id": "2db69ba9",
   "metadata": {},
   "source": [
    "**Explanation**: As we can see, increasing the interest rate results in an increase in the call option prices but a decrease in the put option prices."
   ]
  },
  {
   "cell_type": "markdown",
   "id": "addddd97",
   "metadata": {},
   "source": [
    "Although it is not part of the report, it would be interesting to see how this would change if we compare this specific setting but now instead of having 1 year for time to expiry we have 2 or 4."
   ]
  },
  {
   "cell_type": "markdown",
   "id": "67661e69",
   "metadata": {},
   "source": [
    "### Volatility:"
   ]
  },
  {
   "cell_type": "markdown",
   "id": "b1f84a33",
   "metadata": {},
   "source": [
    "Now, will test with interest rates being 5% and then 40%. After we will compare with the initial 20% and see any patterns."
   ]
  },
  {
   "cell_type": "code",
   "execution_count": 12,
   "id": "860b10c6",
   "metadata": {},
   "outputs": [],
   "source": [
    "# Simulating new prices with sigma = 0.05\n",
    "S0 = 100.; T = 1.0; K = 100; r = 0.05; sigma = 0.05; M = 252; dt = T / M; I = 100000\n",
    "simulation4 = S0 * exp(cumsum((r - 0.5 * sigma ** 2) * dt + sigma * sqrt(dt) * standard_normal((M, I)), axis=0))\n",
    "\n",
    "# Calculating corresponding call and put prices with sigma = 0.05\n",
    "C3 = present_value_for_asian_fixed_call(simulation4, rate=r)\n",
    "P3 = present_value_for_asian_fixed_put(simulation4, rate=r)\n",
    "\n",
    "\n",
    "# Simulating new prices with sigma = 0.40\n",
    "S0 = 100.; T = 1.0; K = 100; r = 0.05; sigma = 0.40; M = 252; dt = T / M; I = 100000\n",
    "simulation5 = S0 * exp(cumsum((r - 0.5 * sigma ** 2) * dt + sigma * sqrt(dt) * standard_normal((M, I)), axis=0))\n",
    "\n",
    "# Calculating corresponding call and put prices with sigma = 0.40\n",
    "C4 = present_value_for_asian_fixed_call(simulation5,rate=r)\n",
    "P4 = present_value_for_asian_fixed_put(simulation5, rate=r)\n"
   ]
  },
  {
   "cell_type": "code",
   "execution_count": 13,
   "id": "800af843",
   "metadata": {},
   "outputs": [
    {
     "data": {
      "text/html": [
       "<div>\n",
       "<style scoped>\n",
       "    .dataframe tbody tr th:only-of-type {\n",
       "        vertical-align: middle;\n",
       "    }\n",
       "\n",
       "    .dataframe tbody tr th {\n",
       "        vertical-align: top;\n",
       "    }\n",
       "\n",
       "    .dataframe thead th {\n",
       "        text-align: right;\n",
       "    }\n",
       "</style>\n",
       "<table border=\"1\" class=\"dataframe\">\n",
       "  <thead>\n",
       "    <tr style=\"text-align: right;\">\n",
       "      <th></th>\n",
       "      <th>volatility = 5%</th>\n",
       "      <th>volatility = 20%</th>\n",
       "      <th>volatility = 40%</th>\n",
       "    </tr>\n",
       "  </thead>\n",
       "  <tbody>\n",
       "    <tr>\n",
       "      <th>Call</th>\n",
       "      <td>2.711012</td>\n",
       "      <td>5.740008</td>\n",
       "      <td>10.344251</td>\n",
       "    </tr>\n",
       "    <tr>\n",
       "      <th>Put</th>\n",
       "      <td>0.301134</td>\n",
       "      <td>3.364574</td>\n",
       "      <td>7.695758</td>\n",
       "    </tr>\n",
       "  </tbody>\n",
       "</table>\n",
       "</div>"
      ],
      "text/plain": [
       "      volatility = 5%  volatility = 20%  volatility = 40%\n",
       "Call         2.711012          5.740008         10.344251\n",
       "Put          0.301134          3.364574          7.695758"
      ]
     },
     "execution_count": 13,
     "metadata": {},
     "output_type": "execute_result"
    }
   ],
   "source": [
    "# Generating data frame for comparison\n",
    "\n",
    "volatility_data = {\n",
    "    \"volatility = 5%\": pd.Series([C3, P3], index=[\"Call\", \"Put\"]), # The new lower rate\n",
    "    \"volatility = 20%\": pd.Series([C0, P0], index=[\"Call\", \"Put\"]), # The default rate at the beginning\n",
    "    \"volatility = 40%\": pd.Series([C4, P4], index=[\"Call\", \"Put\"]) # The new upper rate\n",
    "}\n",
    "\n",
    "# Visualising it\n",
    "volatility_df = pd.DataFrame(volatility_data)\n",
    "volatility_df"
   ]
  },
  {
   "cell_type": "code",
   "execution_count": 14,
   "id": "0581a079",
   "metadata": {},
   "outputs": [
    {
     "data": {
      "text/html": [
       "<div>\n",
       "<style scoped>\n",
       "    .dataframe tbody tr th:only-of-type {\n",
       "        vertical-align: middle;\n",
       "    }\n",
       "\n",
       "    .dataframe tbody tr th {\n",
       "        vertical-align: top;\n",
       "    }\n",
       "\n",
       "    .dataframe thead th {\n",
       "        text-align: right;\n",
       "    }\n",
       "</style>\n",
       "<table border=\"1\" class=\"dataframe\">\n",
       "  <thead>\n",
       "    <tr style=\"text-align: right;\">\n",
       "      <th></th>\n",
       "      <th>Call</th>\n",
       "      <th>Put</th>\n",
       "    </tr>\n",
       "  </thead>\n",
       "  <tbody>\n",
       "    <tr>\n",
       "      <th>volatility = 5%</th>\n",
       "      <td>2.711012</td>\n",
       "      <td>0.301134</td>\n",
       "    </tr>\n",
       "    <tr>\n",
       "      <th>volatility = 20%</th>\n",
       "      <td>5.740008</td>\n",
       "      <td>3.364574</td>\n",
       "    </tr>\n",
       "    <tr>\n",
       "      <th>volatility = 40%</th>\n",
       "      <td>10.344251</td>\n",
       "      <td>7.695758</td>\n",
       "    </tr>\n",
       "  </tbody>\n",
       "</table>\n",
       "</div>"
      ],
      "text/plain": [
       "                       Call       Put\n",
       "volatility = 5%    2.711012  0.301134\n",
       "volatility = 20%   5.740008  3.364574\n",
       "volatility = 40%  10.344251  7.695758"
      ]
     },
     "execution_count": 14,
     "metadata": {},
     "output_type": "execute_result"
    }
   ],
   "source": [
    "# Visualise the table better\n",
    "volatility_df.T"
   ]
  },
  {
   "cell_type": "markdown",
   "id": "2b6c03cb",
   "metadata": {},
   "source": [
    "**Result**: As volatility increases, the prices of both call and put options tend to rise. This is likely because with higher volatility we have higher price fluctuations, this will increases the probability of the option being **in-the-money** (generating a payoff greater than 0 respective to the type of option we are dealing with). Ultimatately, this result in the increase in the price of the options."
   ]
  },
  {
   "cell_type": "markdown",
   "id": "daac5fce",
   "metadata": {},
   "source": [
    "### Strike Price:"
   ]
  },
  {
   "cell_type": "markdown",
   "id": "c9cd8f78",
   "metadata": {},
   "source": [
    "Finally, let's check the impact of changing the strike price to 50 and then 150 - The code will be summarised here."
   ]
  },
  {
   "cell_type": "code",
   "execution_count": 15,
   "id": "45a86967",
   "metadata": {},
   "outputs": [
    {
     "data": {
      "text/html": [
       "<div>\n",
       "<style scoped>\n",
       "    .dataframe tbody tr th:only-of-type {\n",
       "        vertical-align: middle;\n",
       "    }\n",
       "\n",
       "    .dataframe tbody tr th {\n",
       "        vertical-align: top;\n",
       "    }\n",
       "\n",
       "    .dataframe thead th {\n",
       "        text-align: right;\n",
       "    }\n",
       "</style>\n",
       "<table border=\"1\" class=\"dataframe\">\n",
       "  <thead>\n",
       "    <tr style=\"text-align: right;\">\n",
       "      <th></th>\n",
       "      <th>Call</th>\n",
       "      <th>Put</th>\n",
       "    </tr>\n",
       "  </thead>\n",
       "  <tbody>\n",
       "    <tr>\n",
       "      <th>strike = 50</th>\n",
       "      <td>49.990641</td>\n",
       "      <td>0.000000</td>\n",
       "    </tr>\n",
       "    <tr>\n",
       "      <th>strike = 100</th>\n",
       "      <td>5.740008</td>\n",
       "      <td>3.364574</td>\n",
       "    </tr>\n",
       "    <tr>\n",
       "      <th>strike = 150</th>\n",
       "      <td>0.003337</td>\n",
       "      <td>45.171121</td>\n",
       "    </tr>\n",
       "  </tbody>\n",
       "</table>\n",
       "</div>"
      ],
      "text/plain": [
       "                   Call        Put\n",
       "strike = 50   49.990641   0.000000\n",
       "strike = 100   5.740008   3.364574\n",
       "strike = 150   0.003337  45.171121"
      ]
     },
     "execution_count": 15,
     "metadata": {},
     "output_type": "execute_result"
    }
   ],
   "source": [
    "# Setting the strike price to 50\n",
    "S0 = 100.; T = 1.0; K = 50; r = 0.05; sigma = 0.2; M = 252; dt = T / M; I = 100000\n",
    "\n",
    "# Simulating the prices again with strike = 50\n",
    "simulation6 = S0 * exp(cumsum((r - 0.5 * sigma ** 2) * dt + sigma * sqrt(dt) * standard_normal((M, I)), axis=0))\n",
    "\n",
    "# Calculating option prices with K=50\n",
    "C5 = present_value_for_asian_fixed_call(simulation6, rate=r)\n",
    "P5 = present_value_for_asian_fixed_put(simulation6, rate=r)\n",
    "\n",
    "\n",
    "# Setting the strike price to 150\n",
    "S0 = 100.; T = 1.0; K = 150; r = 0.05; sigma = 0.2; M = 252; dt = T / M; I = 100000\n",
    "\n",
    "# Simulating the prices again with strike = 150\n",
    "simulation7 = S0 * exp(cumsum((r - 0.5 * sigma ** 2) * dt + sigma * sqrt(dt) * standard_normal((M, I)), axis=0))\n",
    "\n",
    "# Calculating option prices with K=150\n",
    "C6 = present_value_for_asian_fixed_call(simulation7, rate=r)\n",
    "P6 = present_value_for_asian_fixed_put(simulation7,rate=r)\n",
    "\n",
    "\n",
    "# generating data frame for strike prices\n",
    "strike_data = {\n",
    "    \"strike = 50\": pd.Series([C5, P5], index=[\"Call\", \"Put\"]), # The new lower value\n",
    "    \"strike = 100\": pd.Series([C0, P0], index=[\"Call\", \"Put\"]), # The default value\n",
    "    \"strike = 150\": pd.Series([C6, P6], index=[\"Call\", \"Put\"]) # The new upper value\n",
    "}\n",
    "\n",
    "strike_df = pd.DataFrame(strike_data)\n",
    "strike_df.T"
   ]
  },
  {
   "cell_type": "markdown",
   "id": "818604d3",
   "metadata": {},
   "source": [
    "**Result**: As expected, calls and puts behave in the opposite way to the change in strike price. Increasing the strike price results in a reduction in a call option and increase in a put option. This is because the payoff of a call is: `max(A - K, 0)`. So, higher the strike, the more likely the stock will be **out-of-the-money**, resulting a lower price. For a out the payoff is: `max(K - A, 0)`, this has the opposite effect, resulting in higher prices of the put option as the strike increases because it increases the possibility to be **in-the-money**."
   ]
  },
  {
   "cell_type": "markdown",
   "id": "e42fc588",
   "metadata": {},
   "source": [
    "**Extra**: I was not sure if we were required to create a function from scratch to price the options. So I created one below which incorporates both functions from earlier in which we are required to input the type of option we would like to price between a call or put. I am not going to re-do all the previous analysis again, but show that they generate similar results below."
   ]
  },
  {
   "cell_type": "code",
   "execution_count": 16,
   "id": "ce509e03",
   "metadata": {},
   "outputs": [],
   "source": [
    "# Asian option with fixed strike function\n",
    "def asian_fixed_strike_price(stock_simulation, option_type, K=100, rate=0.05, T=1):\n",
    "    option_type = str(option_type) # Type of option to price\n",
    "    discounting = exp(-r * T) # Creating discounting factor\n",
    "    \n",
    "    if option_type.lower() in [\"call\", \"call option\", \"call_option\"]:\n",
    "        value = np.array([max(V - K, 0) for V in np.mean(stock_simulation, axis=0)])\n",
    "        discounted_option_price_call = discounting * mean(value) # Monte Carlo estimator\n",
    "        return discounted_option_price_call\n",
    "\n",
    "    elif option_type.lower() in [\"put\", \"put option\", \"put_option\"]:\n",
    "        value = np.array([max(K - V, 0) for V in np.mean(stock_simulation, axis=0)])\n",
    "        discounted_option_price_put = discounting * mean(value) # Monte Carlo estimator\n",
    "        return discounted_option_price_put\n",
    "    \n",
    "    else:\n",
    "        return \"The type of option was not clear.\""
   ]
  },
  {
   "cell_type": "code",
   "execution_count": 17,
   "id": "8e5044b6",
   "metadata": {},
   "outputs": [
    {
     "name": "stdout",
     "output_type": "stream",
     "text": [
      "Call price: 5.740007917265428 \n",
      "Put price:  3.364573967141617 \n",
      "Output if give the wrong input, in this case we input 'pat': The type of option was not clear.\n"
     ]
    }
   ],
   "source": [
    "# Creating two (first two) option price to comapre with the ones computes with the functions separately\n",
    "# Creating the third to show if we give wrong input name\n",
    "c_compare11 = asian_fixed_strike_price(simulation1, \"call\", rate=0.05)\n",
    "p_compare11 = asian_fixed_strike_price(simulation1, \"put\", rate=0.05)\n",
    "wrong_input = asian_fixed_strike_price(simulation1, \"pat\", rate=0.05)\n",
    "\n",
    "# Printing the output\n",
    "print(f\"Call price: {c_compare11}\", f\"\\nPut price:  {p_compare11}\", f\"\\nOutput if give the wrong input, in this case we input 'pat': {wrong_input}\")"
   ]
  },
  {
   "cell_type": "markdown",
   "id": "7b3ca120",
   "metadata": {},
   "source": [
    "As we can see, the prices are fairly similar to the prices generated at the beginning, `C0` and `P0`, for the first two options. This suggest the function should work correctly."
   ]
  },
  {
   "cell_type": "markdown",
   "id": "21c7896d",
   "metadata": {},
   "source": [
    "------"
   ]
  },
  {
   "cell_type": "markdown",
   "id": "e0dca9bb",
   "metadata": {},
   "source": [
    "## 2. Asian Floating Strike Options - Arithmetic Averaging:"
   ]
  },
  {
   "cell_type": "markdown",
   "id": "8b010796",
   "metadata": {},
   "source": [
    "The payoffs for the Asian Floating Strike Option are the following:"
   ]
  },
  {
   "cell_type": "markdown",
   "id": "d313d290",
   "metadata": {},
   "source": [
    "For a Call option: $$C_T = max(S(T) - A, 0)$$\n",
    "Where $A$ represents the strike price and it is calculated from the average of the stock prices up to maturity and $S(T)$ represents the stock price(s) at maturity."
   ]
  },
  {
   "cell_type": "markdown",
   "id": "6b3eb2c8",
   "metadata": {},
   "source": [
    "For a Put option: $$P_T = max(A - S(T), 0)$$\n",
    "Where $A$ represents the strike price and it is calculated from the average of the stock prices up to maturity and $S(T)$ represents the stock price(s) at maturity."
   ]
  },
  {
   "cell_type": "markdown",
   "id": "de979de6",
   "metadata": {},
   "source": [
    "Here, we have a strike price that will change based on the fluctuations of the stock prices. Both the strike prices and final prices of the underlying will be known only at maturity."
   ]
  },
  {
   "cell_type": "markdown",
   "id": "9ec0ffe0",
   "metadata": {},
   "source": [
    "Let's use the codes for the fixed strike Asian Options (both call and put) to create the function for the floating strike Asian options"
   ]
  },
  {
   "cell_type": "code",
   "execution_count": 18,
   "id": "73394c1e",
   "metadata": {},
   "outputs": [],
   "source": [
    "def present_value_for_asian_floating_call(S, rate, T=1):\n",
    "    prices_at_maturity = S[-1] # Prices at maturity\n",
    "    \n",
    "    floating_strike = np.mean(S, axis=0) # Average of the stock prices \n",
    "    payoff = np.maximum(prices_at_maturity - floating_strike, 0) # Here we need to use np.maximum, to compute an element-wise maximum, which we then use to compute the mean (as our Monte-Carlo estimator)\n",
    "    return exp(-r * T) * mean(payoff) # Returning the present value\n",
    "\n",
    "def present_value_for_asian_floating_put(S, rate, T=1):\n",
    "    prices_at_maturity = S[-1] # Prices at maturity\n",
    "    \n",
    "    floating_strike = np.mean(S, axis=0) # Average of the stock prices \n",
    "    payoff = np.maximum(floating_strike - prices_at_maturity, 0) # Similar as above\n",
    "    return exp(-r * T) * mean(payoff) # Returning the present value"
   ]
  },
  {
   "cell_type": "markdown",
   "id": "be746c7d",
   "metadata": {},
   "source": [
    "Now, let's test the functions using the stock prices generated earlier, `simulation1`, and let's compare their prices against their corresponding fixed call and put Asian options calculated earlier."
   ]
  },
  {
   "cell_type": "code",
   "execution_count": 19,
   "id": "67bffeca",
   "metadata": {},
   "outputs": [
    {
     "name": "stdout",
     "output_type": "stream",
     "text": [
      "The estimated present value of the Asian floating call is:  5.832515746649978\n"
     ]
    }
   ],
   "source": [
    "floating_call1 = present_value_for_asian_floating_call(simulation1, rate=0.05)\n",
    "print(\"The estimated present value of the Asian floating call is: \", floating_call1)"
   ]
  },
  {
   "cell_type": "code",
   "execution_count": 20,
   "id": "bbec3beb",
   "metadata": {},
   "outputs": [
    {
     "name": "stdout",
     "output_type": "stream",
     "text": [
      "The estimated present value of the Asian floating put is:  3.4109874387756767\n"
     ]
    }
   ],
   "source": [
    "floating_put1 = present_value_for_asian_floating_put(simulation1, rate=0.05)\n",
    "print(\"The estimated present value of the Asian floating put is: \", floating_put1)"
   ]
  },
  {
   "cell_type": "markdown",
   "id": "deae4c91",
   "metadata": {},
   "source": [
    "### Comparing Asian Fixed Strike and Asian Floating Strike:"
   ]
  },
  {
   "cell_type": "markdown",
   "id": "021bfa26",
   "metadata": {},
   "source": [
    "Before comparing the prices of the call and put Fixed Strike Asian options against the call and put prices of Floating Strike Asian options over the same stock simulation, `simulation1`, let's create a function a \"compact\" function that asks us what type of option we would like to price. This is similar as done before for Fixed Strike Asian options."
   ]
  },
  {
   "cell_type": "code",
   "execution_count": 21,
   "id": "2970aa42",
   "metadata": {},
   "outputs": [],
   "source": [
    "# Creating a function for both put and call floating strike asian option\n",
    "def present_value_for_asian_floating(S, option_type, rate, T=1):\n",
    "    option_type = str(option_type) # Deciding the type of the option\n",
    "    prices_at_maturity = S[-1] # Prices at maturity\n",
    "    floating_strike = np.mean(S, axis=0) # Average of the stock prices\n",
    "    discounting = exp(-r * T) # Creating discounting factor\n",
    "    \n",
    "    if option_type.lower() in [\"call\", \"CALL\", \"call option\"]:\n",
    "        payoff = np.maximum(prices_at_maturity - np.mean(S, axis=0), 0) # Here we need to use np.maximum want to compute an element-wise maximum, which we then use to compute the mean (as our Monte-Carlo estimator).\n",
    "        return discounting * mean(payoff) # Returning the present value\n",
    "    \n",
    "    elif option_type.lower().strip() in [\"put\", \"PUT\", \"put option\"]:\n",
    "        payoff = np.maximum(np.mean(S, axis=0) - prices_at_maturity, 0) # Here we need to use np.maximum again - same as above\n",
    "        return discounting * mean(payoff) # Returning the present value\n",
    "    \n",
    "    else:\n",
    "        return \"The type of option was not clear. Please, try again\""
   ]
  },
  {
   "cell_type": "code",
   "execution_count": 22,
   "id": "53523a5f",
   "metadata": {},
   "outputs": [],
   "source": [
    "# Just using the new function and ovewriting the results into those variables\n",
    "floating_call1 = present_value_for_asian_floating(simulation1, \"call\", rate=0.05)\n",
    "floating_put1 = present_value_for_asian_floating(simulation1, \"PUT\", rate=0.05)"
   ]
  },
  {
   "cell_type": "code",
   "execution_count": 23,
   "id": "1cbcb0f3",
   "metadata": {},
   "outputs": [
    {
     "data": {
      "text/html": [
       "<div>\n",
       "<style scoped>\n",
       "    .dataframe tbody tr th:only-of-type {\n",
       "        vertical-align: middle;\n",
       "    }\n",
       "\n",
       "    .dataframe tbody tr th {\n",
       "        vertical-align: top;\n",
       "    }\n",
       "\n",
       "    .dataframe thead th {\n",
       "        text-align: right;\n",
       "    }\n",
       "</style>\n",
       "<table border=\"1\" class=\"dataframe\">\n",
       "  <thead>\n",
       "    <tr style=\"text-align: right;\">\n",
       "      <th></th>\n",
       "      <th>Fixed Strike</th>\n",
       "      <th>Floating Strike</th>\n",
       "    </tr>\n",
       "  </thead>\n",
       "  <tbody>\n",
       "    <tr>\n",
       "      <th>Asian Call Price</th>\n",
       "      <td>5.740008</td>\n",
       "      <td>5.832516</td>\n",
       "    </tr>\n",
       "    <tr>\n",
       "      <th>Asian Put Price</th>\n",
       "      <td>3.364574</td>\n",
       "      <td>3.410987</td>\n",
       "    </tr>\n",
       "  </tbody>\n",
       "</table>\n",
       "</div>"
      ],
      "text/plain": [
       "                  Fixed Strike  Floating Strike\n",
       "Asian Call Price      5.740008         5.832516\n",
       "Asian Put Price       3.364574         3.410987"
      ]
     },
     "execution_count": 23,
     "metadata": {},
     "output_type": "execute_result"
    }
   ],
   "source": [
    "# Putting the prices together into a data frame\n",
    "fixed_vs_floating = {\n",
    "    \"Fixed Strike\": pd.Series([C0, P0], index=[\"Asian Call Price\", \"Asian Put Price\"]),\n",
    "    \"Floating Strike\": pd.Series([floating_call1, floating_put1], index=[\"Asian Call Price\", \"Asian Put Price\"])\n",
    "}\n",
    "\n",
    "# Constructing the DataFrame from the dictionary\n",
    "result_df = pd.DataFrame(fixed_vs_floating)\n",
    "result_df"
   ]
  },
  {
   "cell_type": "markdown",
   "id": "841e7de4",
   "metadata": {},
   "source": [
    "**Explanation/Description**: \n",
    "As shown in the table above, the floating strike options prices are slightly higher than their fixed strike \"counterparts\". The explanation for this would be that the floating types are more likely to be \"**in the money**\". This is because,unlikely the fixed strike where the strike remains constant over the life of the option, the strike (in the flaoting) changes based on how the market moves."
   ]
  },
  {
   "cell_type": "markdown",
   "id": "be8bc103",
   "metadata": {},
   "source": [
    "**Interesting Observation**: However, it is important to know that sometimes, depending on how numbers are generated, that the fixed prices could be higher than the floating ones. I noticed this when running the simulation multiple times but most of the time is aligns with the explanation above."
   ]
  },
  {
   "cell_type": "markdown",
   "id": "a365d447",
   "metadata": {},
   "source": [
    "----"
   ]
  },
  {
   "cell_type": "markdown",
   "id": "72d20eb6",
   "metadata": {},
   "source": [
    "### Extra - Parameter change comparison: Fixed Asian Option and Floating Asian Option"
   ]
  },
  {
   "cell_type": "markdown",
   "id": "094ec14a",
   "metadata": {},
   "source": [
    "I am not sure if this is required but I will want to include it. In this section I am comparing how (if any) changing the interest rate and volatility affects the option prices for a call and put for the floating type. The main goal is to compare if there are differences or similarities between fixed and floating."
   ]
  },
  {
   "cell_type": "markdown",
   "id": "bc5b04e8",
   "metadata": {},
   "source": [
    "The comparison will use similar settings. In this sense, the same change in interest rates and volatility. Also, there will be no example of changing the strike as we are dealing with floating strike options."
   ]
  },
  {
   "cell_type": "markdown",
   "id": "d8d9df7a",
   "metadata": {},
   "source": [
    "Feel free to skip to the next part `3. Asian Fixed/Floating Strike Options - Geometric Averaging:` and `Supershare options` if you'd like. "
   ]
  },
  {
   "cell_type": "markdown",
   "id": "64edfc2e",
   "metadata": {},
   "source": [
    "Also, we will be only focusing on the tables without putting much emphasis on the code as it is the same as before but with some small changes for generating numbers and renaming variables. The variables' names can be confusing as I ran out of names."
   ]
  },
  {
   "cell_type": "markdown",
   "id": "26e30d8a",
   "metadata": {},
   "source": [
    "Let's first do it for the **volatility**."
   ]
  },
  {
   "cell_type": "code",
   "execution_count": 24,
   "id": "1a2aeeb7",
   "metadata": {},
   "outputs": [
    {
     "data": {
      "text/html": [
       "<div>\n",
       "<style scoped>\n",
       "    .dataframe tbody tr th:only-of-type {\n",
       "        vertical-align: middle;\n",
       "    }\n",
       "\n",
       "    .dataframe tbody tr th {\n",
       "        vertical-align: top;\n",
       "    }\n",
       "\n",
       "    .dataframe thead th {\n",
       "        text-align: right;\n",
       "    }\n",
       "</style>\n",
       "<table border=\"1\" class=\"dataframe\">\n",
       "  <thead>\n",
       "    <tr style=\"text-align: right;\">\n",
       "      <th></th>\n",
       "      <th>Call</th>\n",
       "      <th>Put</th>\n",
       "    </tr>\n",
       "  </thead>\n",
       "  <tbody>\n",
       "    <tr>\n",
       "      <th>volatility = 5%</th>\n",
       "      <td>2.754452</td>\n",
       "      <td>0.302781</td>\n",
       "    </tr>\n",
       "    <tr>\n",
       "      <th>volatility = 20%</th>\n",
       "      <td>5.740008</td>\n",
       "      <td>3.364574</td>\n",
       "    </tr>\n",
       "    <tr>\n",
       "      <th>volatility = 40%</th>\n",
       "      <td>10.265219</td>\n",
       "      <td>7.850716</td>\n",
       "    </tr>\n",
       "  </tbody>\n",
       "</table>\n",
       "</div>"
      ],
      "text/plain": [
       "                       Call       Put\n",
       "volatility = 5%    2.754452  0.302781\n",
       "volatility = 20%   5.740008  3.364574\n",
       "volatility = 40%  10.265219  7.850716"
      ]
     },
     "execution_count": 24,
     "metadata": {},
     "output_type": "execute_result"
    }
   ],
   "source": [
    "# Simulating new prices with sigma = 0.05\n",
    "S0 = 100.; T = 1.0; K = 100; r = 0.05; sigma = 0.05; M = 252; dt = T / M; I = 100000\n",
    "simulationggg1 = S0 * exp(cumsum((r - 0.5 * sigma ** 2) * dt + sigma * sqrt(dt) * standard_normal((M, I)), axis=0))\n",
    "\n",
    "# Simulating corresponding call and put prices with sigma = 0.05\n",
    "xxx1 = present_value_for_asian_floating(simulationggg1, \"call\",rate=r)\n",
    "yyy1 = present_value_for_asian_floating(simulationggg1, \"put\",rate=r)\n",
    "\n",
    "# Simulating new prices with sigma = 0.40\n",
    "S0 = 100.; T = 1.0; K = 100; r = 0.05; sigma = 0.40; M = 252; dt = T / M; I = 100000\n",
    "simulationjjj1 = S0 * exp(cumsum((r - 0.5 * sigma ** 2) * dt + sigma * sqrt(dt) * standard_normal((M, I)), axis=0))\n",
    "\n",
    "# Simulating corresponding call and put prices with sigma = 0.40\n",
    "ppp1 = present_value_for_asian_floating(simulationjjj1, \"call\",rate=r)\n",
    "qqq1 = present_value_for_asian_floating(simulationjjj1, \"put\",rate=r)\n",
    "\n",
    "# Generating data frame for comparison\n",
    "gf_data = {\n",
    "    \"volatility = 5%\": pd.Series([xxx1, yyy1], index=[\"Call\", \"Put\"]),\n",
    "    \"volatility = 20%\": pd.Series([C0, P0], index=[\"Call\", \"Put\"]),\n",
    "    \"volatility = 40%\": pd.Series([ppp1, qqq1], index=[\"Call\", \"Put\"])\n",
    "}\n",
    "\n",
    "# Visualising it\n",
    "gf_df = pd.DataFrame(gf_data)\n",
    "gf_df.T"
   ]
  },
  {
   "cell_type": "markdown",
   "id": "88239cae",
   "metadata": {},
   "source": [
    "**Explanation**: As we can see from the table above, it behaves in the same pattern as the fixed strike Asian option."
   ]
  },
  {
   "cell_type": "markdown",
   "id": "a9794465",
   "metadata": {},
   "source": [
    "Now, with the **interest rate**."
   ]
  },
  {
   "cell_type": "code",
   "execution_count": 25,
   "id": "45b512bd",
   "metadata": {},
   "outputs": [
    {
     "data": {
      "text/html": [
       "<div>\n",
       "<style scoped>\n",
       "    .dataframe tbody tr th:only-of-type {\n",
       "        vertical-align: middle;\n",
       "    }\n",
       "\n",
       "    .dataframe tbody tr th {\n",
       "        vertical-align: top;\n",
       "    }\n",
       "\n",
       "    .dataframe thead th {\n",
       "        text-align: right;\n",
       "    }\n",
       "</style>\n",
       "<table border=\"1\" class=\"dataframe\">\n",
       "  <thead>\n",
       "    <tr style=\"text-align: right;\">\n",
       "      <th></th>\n",
       "      <th>Call</th>\n",
       "      <th>Put</th>\n",
       "    </tr>\n",
       "  </thead>\n",
       "  <tbody>\n",
       "    <tr>\n",
       "      <th>rate = 1%</th>\n",
       "      <td>4.823190</td>\n",
       "      <td>4.316382</td>\n",
       "    </tr>\n",
       "    <tr>\n",
       "      <th>rate = 5%</th>\n",
       "      <td>5.740008</td>\n",
       "      <td>3.364574</td>\n",
       "    </tr>\n",
       "    <tr>\n",
       "      <th>rate = 15%</th>\n",
       "      <td>8.816388</td>\n",
       "      <td>1.701262</td>\n",
       "    </tr>\n",
       "  </tbody>\n",
       "</table>\n",
       "</div>"
      ],
      "text/plain": [
       "                Call       Put\n",
       "rate = 1%   4.823190  4.316382\n",
       "rate = 5%   5.740008  3.364574\n",
       "rate = 15%  8.816388  1.701262"
      ]
     },
     "execution_count": 25,
     "metadata": {},
     "output_type": "execute_result"
    }
   ],
   "source": [
    "# Simulating new prices with r=0.01\n",
    "S0 = 100.; T = 1.0; K = 100; r = 0.01; sigma = 0.2; M = 252; dt = T / M; I = 100000\n",
    "simulationggg2 = S0 * exp(cumsum((r - 0.5 * sigma ** 2) * dt + sigma * sqrt(dt) * standard_normal((M, I)), axis=0))\n",
    "\n",
    "xxx2 = present_value_for_asian_floating(simulationggg2, \"call\", rate=r)\n",
    "yyy2 = present_value_for_asian_floating(simulationggg2, \"put\", rate=r)\n",
    "\n",
    "# Simulating new prices with r=0.15\n",
    "S0 = 100.; T = 1.0; K = 100; r = 0.15; sigma = 0.2; M = 252; dt = T / M; I = 100000\n",
    "simulationjjj2 = S0 * exp(cumsum((r - 0.5 * sigma ** 2) * dt + sigma * sqrt(dt) * standard_normal((M, I)), axis=0))\n",
    "\n",
    "ppp2 = present_value_for_asian_floating(simulationjjj2, \"call\",  rate=r)\n",
    "qqq2 = present_value_for_asian_floating(simulationjjj2, \"put\", rate=r)\n",
    "\n",
    "kf_data = {\n",
    "    \"rate = 1%\": pd.Series([xxx2, yyy2], index=[\"Call\", \"Put\"]),\n",
    "    \"rate = 5%\": pd.Series([C0, P0], index=[\"Call\", \"Put\"]),\n",
    "    \"rate = 15%\": pd.Series([ppp2, qqq2], index=[\"Call\", \"Put\"])\n",
    "}\n",
    "\n",
    "kf_df = pd.DataFrame(kf_data)\n",
    "kf_df.T"
   ]
  },
  {
   "cell_type": "markdown",
   "id": "06e9755f",
   "metadata": {},
   "source": [
    "**Explanation**: Again, the same pattern as with the fixed Asian options"
   ]
  },
  {
   "cell_type": "markdown",
   "id": "f02aff20",
   "metadata": {},
   "source": [
    "-----"
   ]
  },
  {
   "cell_type": "markdown",
   "id": "46496a7a",
   "metadata": {},
   "source": [
    "## 3. Asian Fixed/Floating Strike Options - Geometric Averaging:"
   ]
  },
  {
   "cell_type": "markdown",
   "id": "39a36780",
   "metadata": {},
   "source": [
    "So far we used the Arithmetic averaging which can be represented using the following formula:\n",
    "$$ A = \\frac{1}{n} \\sum_{i=1}^{n} S({t_i}) $$"
   ]
  },
  {
   "cell_type": "markdown",
   "id": "d8f820b7",
   "metadata": {},
   "source": [
    "Now, we are going to test the Geometric averaging, which is represented by:"
   ]
  },
  {
   "cell_type": "markdown",
   "id": "9e723fb9",
   "metadata": {},
   "source": [
    "$$ {A_G} = \\left( \\prod_{i=1}^{n} S({t_i}) \\right)^{\\frac{1}{n}} $$"
   ]
  },
  {
   "cell_type": "markdown",
   "id": "934af949",
   "metadata": {},
   "source": [
    "The Geometric average can also be represente in the following after some manipulation: "
   ]
  },
  {
   "cell_type": "markdown",
   "id": "7c667c88",
   "metadata": {},
   "source": [
    "$$ {A_G} = e^{\\frac{1}{n} \\sum_{i=1}^{n} \\log(S({t_i}))} $$"
   ]
  },
  {
   "cell_type": "markdown",
   "id": "f329bd11",
   "metadata": {},
   "source": [
    "We will use the last form in my function below."
   ]
  },
  {
   "cell_type": "code",
   "execution_count": 26,
   "id": "c266eab6",
   "metadata": {},
   "outputs": [],
   "source": [
    "def present_value_for_geometric_asian(S, option_type, strike_type, rate, time=1):\n",
    "    option_type = str(option_type) # Type of option we want (put or call)\n",
    "    strike_type = str(strike_type) # Type of strike we want (fixed or flaoting)\n",
    "    prices_at_maturity = S[-1] # Prices at maturity\n",
    "    geometric_strike = np.exp(np.mean(np.log(S), axis=0)) # Geometric average of the stock prices\n",
    "    discounting = exp(-r * T) # Creating discounting factor\n",
    "    \n",
    "    # The rest is the same as before, only difference we apply the geometric mean\n",
    "    if strike_type.title() == \"Fixed\": # If fixed\n",
    "        if option_type.lower() in [\"call\", \"call option\", \"call_option\"]: # For calls\n",
    "            value = np.array([max(V - K, 0) for V in geometric_strike])\n",
    "            discounted_option_price_call = discounting * np.mean(value) # Monte Carlo averaging\n",
    "            return discounted_option_price_call\n",
    "        \n",
    "        elif option_type.lower() in [\"put\", \"put option\", \"put_option\"]: # For puts\n",
    "            value = np.array([max(K - V, 0) for V in geometric_strike])\n",
    "            discounted_option_price_put = discounting * np.mean(value) # Monte Carlo averaging\n",
    "            return discounted_option_price_put\n",
    "        \n",
    "        else:\n",
    "            return \"The type of option was not clear.\"\n",
    "    \n",
    "    elif strike_type.title() == \"Floating\": # If floating\n",
    "        if option_type.lower() in [\"call\", \"CALL\", \"call option\"]: # For calls\n",
    "            payoff = np.maximum(prices_at_maturity - geometric_strike, 0)\n",
    "            return discounting * np.mean(payoff) # Monte Carlo averaging\n",
    "        \n",
    "        elif option_type.lower() in [\"put\", \"PUT\", \"put option\"]: # For puts\n",
    "            payoff = np.maximum(geometric_strike - prices_at_maturity, 0)\n",
    "            return discounting * np.mean(payoff) # Monte Carlo averaging\n",
    "        \n",
    "        else:\n",
    "            return \"The type of option was not clear. Please try again.\""
   ]
  },
  {
   "cell_type": "code",
   "execution_count": 27,
   "id": "030301fd",
   "metadata": {},
   "outputs": [],
   "source": [
    "# Simulating combination of call and put options with fixed and floating strikes. They have the same paramaters as the one in the worksheet\n",
    "geom_fixed_call = present_value_for_geometric_asian(simulation1, \"CALL\", \"fixed\", rate=0.05)\n",
    "geom_fixed_put = present_value_for_geometric_asian(simulation1, \"PUT\", \"fixed\", rate=0.05)\n",
    "geom_floating_call = present_value_for_geometric_asian(simulation1, \"call\", \"floating\", rate=0.05)\n",
    "geom_floating_put = present_value_for_geometric_asian(simulation1, \"PUT\", \"floating\", rate=0.05)"
   ]
  },
  {
   "cell_type": "code",
   "execution_count": 28,
   "id": "408a178b",
   "metadata": {},
   "outputs": [],
   "source": [
    "# Recalling the simulations again\n",
    "floating_call1 = present_value_for_asian_floating(simulation1, \"call\", rate=0.05)\n",
    "floating_put1 = present_value_for_asian_floating(simulation1, \"PUT\", rate=0.05)\n",
    "fixed_call1 = present_value_for_asian_fixed_call(simulation1, rate=0.05)\n",
    "fixed_put1 = present_value_for_asian_fixed_put(simulation1, rate=0.05)"
   ]
  },
  {
   "cell_type": "markdown",
   "id": "29940c19",
   "metadata": {},
   "source": [
    "Next, I will compare arithmetic and geometric averaging by combining the results into a data frame. These values have been simulated from the same stock simulation, `simulation1`, same interest rate and time frame, `rate=0.05` and `T=1`. These are the initial values given in the coursework and I thought they would be ideal to use for comparison."
   ]
  },
  {
   "cell_type": "code",
   "execution_count": 29,
   "id": "59ba6c1d",
   "metadata": {},
   "outputs": [
    {
     "data": {
      "text/html": [
       "<div>\n",
       "<style scoped>\n",
       "    .dataframe tbody tr th:only-of-type {\n",
       "        vertical-align: middle;\n",
       "    }\n",
       "\n",
       "    .dataframe tbody tr th {\n",
       "        vertical-align: top;\n",
       "    }\n",
       "\n",
       "    .dataframe thead th {\n",
       "        text-align: right;\n",
       "    }\n",
       "</style>\n",
       "<table border=\"1\" class=\"dataframe\">\n",
       "  <thead>\n",
       "    <tr style=\"text-align: right;\">\n",
       "      <th></th>\n",
       "      <th>Arithmetic Averaging</th>\n",
       "      <th>Geometric Averaging</th>\n",
       "    </tr>\n",
       "  </thead>\n",
       "  <tbody>\n",
       "    <tr>\n",
       "      <th>Fixed Call</th>\n",
       "      <td>5.193774</td>\n",
       "      <td>4.998712</td>\n",
       "    </tr>\n",
       "    <tr>\n",
       "      <th>Fixed Put</th>\n",
       "      <td>3.044392</td>\n",
       "      <td>3.151462</td>\n",
       "    </tr>\n",
       "    <tr>\n",
       "      <th>Floating Call</th>\n",
       "      <td>5.277478</td>\n",
       "      <td>5.465766</td>\n",
       "    </tr>\n",
       "    <tr>\n",
       "      <th>Floating Put</th>\n",
       "      <td>3.086389</td>\n",
       "      <td>2.972545</td>\n",
       "    </tr>\n",
       "  </tbody>\n",
       "</table>\n",
       "</div>"
      ],
      "text/plain": [
       "               Arithmetic Averaging  Geometric Averaging\n",
       "Fixed Call                 5.193774             4.998712\n",
       "Fixed Put                  3.044392             3.151462\n",
       "Floating Call              5.277478             5.465766\n",
       "Floating Put               3.086389             2.972545"
      ]
     },
     "execution_count": 29,
     "metadata": {},
     "output_type": "execute_result"
    }
   ],
   "source": [
    "# Creating the data frame for comparison\n",
    "fixed_vs_floating = {\n",
    "    \"Arithmetic Averaging\": pd.Series([fixed_call1, fixed_put1, floating_call1, floating_put1],\n",
    "                                      index=[\"Fixed Call\", \"Fixed Put\", \"Floating Call\", \"Floating Put\"]),\n",
    "    \"Geometric Averaging\": pd.Series([geom_fixed_call, geom_fixed_put,\n",
    "                                      geom_floating_call, geom_floating_put],\n",
    "                                      index=[\"Fixed Call\", \"Fixed Put\", \"Floating Call\", \"Floating Put\"])\n",
    "}\n",
    "\n",
    "fixed_vs_floating_df = pd.DataFrame(fixed_vs_floating)\n",
    "fixed_vs_floating_df"
   ]
  },
  {
   "cell_type": "markdown",
   "id": "178206df",
   "metadata": {},
   "source": [
    "**Results/Explanations**: From running the code (stock simulations) multiple times, I can see that usually, the geometric averaging yields a lower price in most of the cases. However, there are some instances where this \"condition\" is violated. So, it can happen to have the **Floating Call** for for the **Geometric Averaging** being larger than its **Arithmetic Averaging** counterpart. "
   ]
  },
  {
   "cell_type": "markdown",
   "id": "9a787c2f",
   "metadata": {},
   "source": [
    "**Note**: If you see \"strange\" results, please re-run the code from `3. Asian Fixed/Floating Strike Options - Geometric Averaging` few times to re-generate the stock prices. This is just the last 4/5 \"blocks\" of code."
   ]
  },
  {
   "cell_type": "markdown",
   "id": "7712e46c",
   "metadata": {},
   "source": [
    "-----"
   ]
  },
  {
   "cell_type": "markdown",
   "id": "04228650",
   "metadata": {},
   "source": [
    "## Supershare Options:"
   ]
  },
  {
   "cell_type": "markdown",
   "id": "94cffb45",
   "metadata": {},
   "source": [
    "Let's recall a \"standard\" binary option first. A binary option is an option in which the payoff is either 1 or 0 depending if the option is **in-the-money** or **out-the-money**."
   ]
  },
  {
   "cell_type": "markdown",
   "id": "f5815279",
   "metadata": {},
   "source": [
    "A **Supershare** option is a type of binary option in which the payoff is given by dividing the price underlying at expiry by the lower boundary also called a lower strike. The option will only yield a positive payoff if the price of the underlying is within the lower and upper strikes at maturity. Otherwise, it's zero."
   ]
  },
  {
   "cell_type": "code",
   "execution_count": 30,
   "id": "16878cdf",
   "metadata": {},
   "outputs": [],
   "source": [
    "# Creating  a function of the supershare option\n",
    "def super_share_option_price(S, lower_strike, upper_strike, r, T=1):\n",
    "    S_t_array = np.array(S[-1]) # Prices at expiry\n",
    "    discounted_payoff_lst = [] # Appending the discounted payoff here for each realisation \n",
    "    \n",
    "    for final_price in S_t_array:\n",
    "        if final_price >= upper_strike or final_price < lower_strike:\n",
    "            discounted_payoff_lst.append(0) # If outside the in-the-money zone\n",
    "        else:\n",
    "            discounted_payoff_lst.append((final_price/lower_strike) * exp(-r * T)) # If inside the in-the-money zone\n",
    "    return mean(discounted_payoff_lst)"
   ]
  },
  {
   "cell_type": "markdown",
   "id": "b6d7c963",
   "metadata": {},
   "source": [
    "Let's price a supershare option with the \"default\" interest rate of 5% and time to maturity of 1 year, but set the lower strike to 90 and the upper strike to 110."
   ]
  },
  {
   "cell_type": "code",
   "execution_count": 31,
   "id": "808ce815",
   "metadata": {},
   "outputs": [],
   "source": [
    "S0 = 100.; T = 1.0; K = 100; r = 0.05; sigma = 0.2; M = 252; dt = T / M; I = 100000\n",
    "\n",
    "# Simulating the numbers again with coursework parameters\n",
    "simulation1 = S0 * exp(cumsum((r - 0.5 * sigma ** 2) * dt + sigma * sqrt(dt) * standard_normal((M, I)), axis=0))"
   ]
  },
  {
   "cell_type": "code",
   "execution_count": 32,
   "id": "df1e780f",
   "metadata": {},
   "outputs": [
    {
     "name": "stdout",
     "output_type": "stream",
     "text": [
      "Price of a supershare option with lower strike = 90, upper strike = 110, interest rate = 5%:\n",
      "0.4003\n"
     ]
    }
   ],
   "source": [
    "super1 = super_share_option_price(simulation1, 90, 110, r)\n",
    "print(f\"Price of a supershare option with lower strike = 90, upper strike = 110, interest rate = 5%:\\\n",
    "\\n{round(super1,5)}\")"
   ]
  },
  {
   "cell_type": "markdown",
   "id": "dfb5d54f",
   "metadata": {},
   "source": [
    "**Scenario 1**: Now, let's change the upper strike while keeping everything else the same to assess the change in the price of the super option:"
   ]
  },
  {
   "cell_type": "code",
   "execution_count": 33,
   "id": "42c56b23",
   "metadata": {},
   "outputs": [
    {
     "name": "stdout",
     "output_type": "stream",
     "text": [
      "Price of a supershare option with lower strike = 90, upper strike = 120, interest rate = 5%:\n",
      "0.5787\n"
     ]
    }
   ],
   "source": [
    "super2 = super_share_option_price(simulation1, 90, 120, r)\n",
    "print(f\"Price of a supershare option with lower strike = 90, upper strike = 120, interest rate = 5%:\\\n",
    "\\n{round(super2,5)}\")"
   ]
  },
  {
   "cell_type": "markdown",
   "id": "3c7efcf7",
   "metadata": {},
   "source": [
    "Let's have a series of supershare options but each time we make the gap between the lower and upper strike larger. "
   ]
  },
  {
   "cell_type": "code",
   "execution_count": 34,
   "id": "e9d83934",
   "metadata": {},
   "outputs": [
    {
     "name": "stdout",
     "output_type": "stream",
     "text": [
      "Price of a supershare option with lower strike = 90, upper strike = 170, interest rate = 5%:\n",
      "0.88494\n"
     ]
    }
   ],
   "source": [
    "super3 = super_share_option_price(simulation1, 90, 170, r)\n",
    "print(f\"Price of a supershare option with lower strike = 90, upper strike = 170, interest rate = 5%:\\\n",
    "\\n{round(super3,5)}\")"
   ]
  },
  {
   "cell_type": "code",
   "execution_count": 35,
   "id": "ba895063",
   "metadata": {},
   "outputs": [
    {
     "name": "stdout",
     "output_type": "stream",
     "text": [
      "Price of a supershare option with lower strike = 90, upper strike = 900, interest rate = 5%:\n",
      "0.89679\n"
     ]
    }
   ],
   "source": [
    "super4 = super_share_option_price(simulation1, 90, 900, r)\n",
    "print(f\"Price of a supershare option with lower strike = 90, upper strike = 900, interest rate = 5%:\\\n",
    "\\n{round(super4,5)}\")"
   ]
  },
  {
   "cell_type": "code",
   "execution_count": 36,
   "id": "4c0c0463",
   "metadata": {},
   "outputs": [
    {
     "data": {
      "text/html": [
       "<div>\n",
       "<style scoped>\n",
       "    .dataframe tbody tr th:only-of-type {\n",
       "        vertical-align: middle;\n",
       "    }\n",
       "\n",
       "    .dataframe tbody tr th {\n",
       "        vertical-align: top;\n",
       "    }\n",
       "\n",
       "    .dataframe thead th {\n",
       "        text-align: right;\n",
       "    }\n",
       "</style>\n",
       "<table border=\"1\" class=\"dataframe\">\n",
       "  <thead>\n",
       "    <tr style=\"text-align: right;\">\n",
       "      <th></th>\n",
       "      <th>Super option price</th>\n",
       "    </tr>\n",
       "  </thead>\n",
       "  <tbody>\n",
       "    <tr>\n",
       "      <th>Strikes: lower = 90 , upper = 110</th>\n",
       "      <td>0.400305</td>\n",
       "    </tr>\n",
       "    <tr>\n",
       "      <th>Strikes: lower = 90 , upper = 120</th>\n",
       "      <td>0.578700</td>\n",
       "    </tr>\n",
       "    <tr>\n",
       "      <th>Strikes: lower = 90 , upper = 170</th>\n",
       "      <td>0.884939</td>\n",
       "    </tr>\n",
       "    <tr>\n",
       "      <th>Strikes: lower = 90 , upper = 900</th>\n",
       "      <td>0.896790</td>\n",
       "    </tr>\n",
       "  </tbody>\n",
       "</table>\n",
       "</div>"
      ],
      "text/plain": [
       "                                   Super option price\n",
       "Strikes: lower = 90 , upper = 110            0.400305\n",
       "Strikes: lower = 90 , upper = 120            0.578700\n",
       "Strikes: lower = 90 , upper = 170            0.884939\n",
       "Strikes: lower = 90 , upper = 900            0.896790"
      ]
     },
     "execution_count": 36,
     "metadata": {},
     "output_type": "execute_result"
    }
   ],
   "source": [
    "# Creating a data frame for comparison\n",
    "strike_data1 = {\n",
    "    \"Strikes: lower = 90 , upper = 110\": pd.Series([super1], index=[\"Super option price\"]),\n",
    "    \"Strikes: lower = 90 , upper = 120\": pd.Series([super2], index=[\"Super option price\"]),\n",
    "    \"Strikes: lower = 90 , upper = 170\": pd.Series([super3], index=[\"Super option price\"]),\n",
    "    \"Strikes: lower = 90 , upper = 900\": pd.Series([super4], index=[\"Super option price\"]),\n",
    "}\n",
    "\n",
    "strike1_df = pd.DataFrame(strike_data1)\n",
    "strike1_df.T"
   ]
  },
  {
   "cell_type": "markdown",
   "id": "9813f1db",
   "metadata": {},
   "source": [
    "**Explanation/Result**: As we increase the upper strike while keeping the lower strike fixed the price we can see the price of the option increasing which makes sense as there is more probability of the payoff being **in-the-money** with a greater range. But we can also see that the price does not increase by a significant amount. I believe this is because the lower strike is quite close to the initial price which lowers the chances of the payoff being **in-the-money** than if it was, say 25. This is not included in the report but this is what I would normally expect."
   ]
  },
  {
   "cell_type": "markdown",
   "id": "330c28ff",
   "metadata": {},
   "source": [
    "**Scenario 2**: Now, let's decrease the lower strike, while keeping the upper strike fixed at 110."
   ]
  },
  {
   "cell_type": "code",
   "execution_count": 37,
   "id": "ca738cf8",
   "metadata": {},
   "outputs": [
    {
     "name": "stdout",
     "output_type": "stream",
     "text": [
      "Price of a supershare option with lower strike = 80, upper strike = 110, interest rate = 5%:\n",
      "0.6\n"
     ]
    }
   ],
   "source": [
    "super5 = super_share_option_price(simulation1, 80, 110, r)\n",
    "print(f\"Price of a supershare option with lower strike = 80, upper strike = 110, interest rate = 5%:\\\n",
    "\\n{round(super5,5)}\")"
   ]
  },
  {
   "cell_type": "code",
   "execution_count": 38,
   "id": "bf93ea82",
   "metadata": {},
   "outputs": [
    {
     "name": "stdout",
     "output_type": "stream",
     "text": [
      "Price of a supershare option with lower strike = 30, upper strike = 110, interest rate = 5%:\n",
      "1.84062\n"
     ]
    }
   ],
   "source": [
    "super6 = super_share_option_price(simulation1, 30, 110, r)\n",
    "print(f\"Price of a supershare option with lower strike = 30, upper strike = 110, interest rate = 5%:\\\n",
    "\\n{round(super6,5)}\")"
   ]
  },
  {
   "cell_type": "code",
   "execution_count": 39,
   "id": "2c76ae32",
   "metadata": {},
   "outputs": [
    {
     "name": "stdout",
     "output_type": "stream",
     "text": [
      "Price of a supershare option with lower strike = 1, upper strike = 110, interest rate = 5%:\n",
      "55.21871\n"
     ]
    }
   ],
   "source": [
    "super7 = super_share_option_price(simulation1, 1, 110, r)\n",
    "print(f\"Price of a supershare option with lower strike = 1, upper strike = 110, interest rate = 5%:\\\n",
    "\\n{round(super7,5)}\")"
   ]
  },
  {
   "cell_type": "code",
   "execution_count": 40,
   "id": "317bb089",
   "metadata": {},
   "outputs": [
    {
     "data": {
      "text/html": [
       "<div>\n",
       "<style scoped>\n",
       "    .dataframe tbody tr th:only-of-type {\n",
       "        vertical-align: middle;\n",
       "    }\n",
       "\n",
       "    .dataframe tbody tr th {\n",
       "        vertical-align: top;\n",
       "    }\n",
       "\n",
       "    .dataframe thead th {\n",
       "        text-align: right;\n",
       "    }\n",
       "</style>\n",
       "<table border=\"1\" class=\"dataframe\">\n",
       "  <thead>\n",
       "    <tr style=\"text-align: right;\">\n",
       "      <th></th>\n",
       "      <th>Super option price</th>\n",
       "    </tr>\n",
       "  </thead>\n",
       "  <tbody>\n",
       "    <tr>\n",
       "      <th>Strikes: lower = 90 , upper = 110</th>\n",
       "      <td>0.400305</td>\n",
       "    </tr>\n",
       "    <tr>\n",
       "      <th>Strikes: lower = 80 , upper = 110</th>\n",
       "      <td>0.599998</td>\n",
       "    </tr>\n",
       "    <tr>\n",
       "      <th>Strikes: lower = 30 , upper = 110</th>\n",
       "      <td>1.840624</td>\n",
       "    </tr>\n",
       "    <tr>\n",
       "      <th>Strikes: lower = 1 , upper = 110</th>\n",
       "      <td>55.218710</td>\n",
       "    </tr>\n",
       "  </tbody>\n",
       "</table>\n",
       "</div>"
      ],
      "text/plain": [
       "                                   Super option price\n",
       "Strikes: lower = 90 , upper = 110            0.400305\n",
       "Strikes: lower = 80 , upper = 110            0.599998\n",
       "Strikes: lower = 30 , upper = 110            1.840624\n",
       "Strikes: lower = 1 , upper = 110            55.218710"
      ]
     },
     "execution_count": 40,
     "metadata": {},
     "output_type": "execute_result"
    }
   ],
   "source": [
    "# Creating a data frame for comparison\n",
    "strike_data2 = {\n",
    "    \"Strikes: lower = 90 , upper = 110\": pd.Series([super1], index=[\"Super option price\"]),\n",
    "    \"Strikes: lower = 80 , upper = 110\": pd.Series([super5], index=[\"Super option price\"]),\n",
    "    \"Strikes: lower = 30 , upper = 110\": pd.Series([super6], index=[\"Super option price\"]),\n",
    "    \"Strikes: lower = 1 , upper = 110\": pd.Series([super7], index=[\"Super option price\"]),\n",
    "}\n",
    "\n",
    "strike2_df = pd.DataFrame(strike_data2)\n",
    "strike2_df.T"
   ]
  },
  {
   "cell_type": "markdown",
   "id": "851512cf",
   "metadata": {},
   "source": [
    "**Explanation/Result**: The results are as expected, decreasing the lower strike while keeping the upper strike fixed increases the option price for the same reason as above. But what I can see is that the option price increases much more than the previous example. This may suggest that the prices at maturity tend to go down more actually increasing in value making them more likely to \"break\" the lower barrier than the upper one."
   ]
  },
  {
   "cell_type": "markdown",
   "id": "3feb0ad5",
   "metadata": {},
   "source": [
    "**Scenario 3**: So far we made the \"gap\" between the strikes larger (one at a time). Now, let's make them smaller simultaneously. This time, I will summarise them directly in a table."
   ]
  },
  {
   "cell_type": "code",
   "execution_count": 41,
   "id": "1c204b26",
   "metadata": {},
   "outputs": [
    {
     "data": {
      "text/html": [
       "<div>\n",
       "<style scoped>\n",
       "    .dataframe tbody tr th:only-of-type {\n",
       "        vertical-align: middle;\n",
       "    }\n",
       "\n",
       "    .dataframe tbody tr th {\n",
       "        vertical-align: top;\n",
       "    }\n",
       "\n",
       "    .dataframe thead th {\n",
       "        text-align: right;\n",
       "    }\n",
       "</style>\n",
       "<table border=\"1\" class=\"dataframe\">\n",
       "  <thead>\n",
       "    <tr style=\"text-align: right;\">\n",
       "      <th></th>\n",
       "      <th>Supershare option price</th>\n",
       "    </tr>\n",
       "  </thead>\n",
       "  <tbody>\n",
       "    <tr>\n",
       "      <th>Strikes: lower = 90 , upper = 110</th>\n",
       "      <td>0.400305</td>\n",
       "    </tr>\n",
       "    <tr>\n",
       "      <th>Strikes: lower = 92 , upper = 105</th>\n",
       "      <td>0.298108</td>\n",
       "    </tr>\n",
       "    <tr>\n",
       "      <th>Strikes: lower = 105 , upper = 110</th>\n",
       "      <td>0.000000</td>\n",
       "    </tr>\n",
       "    <tr>\n",
       "      <th>Strikes: lower = 106 , upper = 105</th>\n",
       "      <td>0.000000</td>\n",
       "    </tr>\n",
       "  </tbody>\n",
       "</table>\n",
       "</div>"
      ],
      "text/plain": [
       "                                    Supershare option price\n",
       "Strikes: lower = 90 , upper = 110                  0.400305\n",
       "Strikes: lower = 92 , upper = 105                  0.298108\n",
       "Strikes: lower = 105 , upper = 110                 0.000000\n",
       "Strikes: lower = 106 , upper = 105                 0.000000"
      ]
     },
     "execution_count": 41,
     "metadata": {},
     "output_type": "execute_result"
    }
   ],
   "source": [
    "# Pricing and putting into a table\n",
    "super8 = super_share_option_price(simulation1, 92, 107, r)\n",
    "super9 = super_share_option_price(simulation1, 105, 105, r)\n",
    "super10 = super_share_option_price(simulation1, 106, 105, r)\n",
    "\n",
    "# Creating a data frame\n",
    "strike_data3 = {\n",
    "    \"Strikes: lower = 90 , upper = 110\": pd.Series([super1], index=[\"Supershare option price\"]),\n",
    "    \"Strikes: lower = 92 , upper = 105\": pd.Series([super8], index=[\"Supershare option price\"]),\n",
    "    \"Strikes: lower = 105 , upper = 110\": pd.Series([super9], index=[\"Supershare option price\"]),\n",
    "    \"Strikes: lower = 106 , upper = 105\": pd.Series([super10], index=[\"Supershare option price\"]),\n",
    "}\n",
    "\n",
    "strike3_df = pd.DataFrame(strike_data3)\n",
    "strike3_df.T"
   ]
  },
  {
   "cell_type": "markdown",
   "id": "d0b8a458",
   "metadata": {},
   "source": [
    "**Explanation/Result**: Simple and expected results, the closer the strikes are to the initial price of the underlying, the more likely it will be **out-the-money** which means lower option prices."
   ]
  },
  {
   "cell_type": "markdown",
   "id": "d557efae",
   "metadata": {},
   "source": [
    "**Scenario 4 - My question**: What if the stock starts below both strike prices - i.e below the lower strike? Will it end up in the money or out the money? What about when the stock starts above both the strike prices - i.e above the upper strike?"
   ]
  },
  {
   "cell_type": "markdown",
   "id": "8cf0480a",
   "metadata": {},
   "source": [
    "**Note**: Recall that in the simulations, we set the initial stock value as 100 , `S0 = 100`."
   ]
  },
  {
   "cell_type": "code",
   "execution_count": 42,
   "id": "9ef71eaa",
   "metadata": {},
   "outputs": [
    {
     "data": {
      "text/html": [
       "<div>\n",
       "<style scoped>\n",
       "    .dataframe tbody tr th:only-of-type {\n",
       "        vertical-align: middle;\n",
       "    }\n",
       "\n",
       "    .dataframe tbody tr th {\n",
       "        vertical-align: top;\n",
       "    }\n",
       "\n",
       "    .dataframe thead th {\n",
       "        text-align: right;\n",
       "    }\n",
       "</style>\n",
       "<table border=\"1\" class=\"dataframe\">\n",
       "  <thead>\n",
       "    <tr style=\"text-align: right;\">\n",
       "      <th></th>\n",
       "      <th>Supershare option price</th>\n",
       "    </tr>\n",
       "  </thead>\n",
       "  <tbody>\n",
       "    <tr>\n",
       "      <th>Strikes: lower = 90 , upper = 110</th>\n",
       "      <td>0.400305</td>\n",
       "    </tr>\n",
       "    <tr>\n",
       "      <th>Strikes: lower = 85 , upper = 95</th>\n",
       "      <td>0.176131</td>\n",
       "    </tr>\n",
       "    <tr>\n",
       "      <th>Strikes: lower = 110 , upper = 115</th>\n",
       "      <td>0.077350</td>\n",
       "    </tr>\n",
       "  </tbody>\n",
       "</table>\n",
       "</div>"
      ],
      "text/plain": [
       "                                    Supershare option price\n",
       "Strikes: lower = 90 , upper = 110                  0.400305\n",
       "Strikes: lower = 85 , upper = 95                   0.176131\n",
       "Strikes: lower = 110 , upper = 115                 0.077350"
      ]
     },
     "execution_count": 42,
     "metadata": {},
     "output_type": "execute_result"
    }
   ],
   "source": [
    "super11 = super_share_option_price(simulation1, 85, 95, r)\n",
    "super12 = super_share_option_price(simulation1, 110, 115, r)\n",
    "\n",
    "strike_data4 = {\n",
    "    \"Strikes: lower = 90 , upper = 110\": pd.Series([super1], index=[\"Supershare option price\"]),\n",
    "    \"Strikes: lower = 85 , upper = 95\": pd.Series([super11], index=[\"Supershare option price\"]),\n",
    "    \"Strikes: lower = 110 , upper = 115\": pd.Series([super12], index=[\"Supershare option price\"]),\n",
    "}\n",
    "\n",
    "strike4_df = pd.DataFrame(strike_data4)\n",
    "strike4_df.T"
   ]
  },
  {
   "cell_type": "markdown",
   "id": "f76804c5",
   "metadata": {},
   "source": [
    "**Explanation/Result**: The first row of the table is just a \"base\" of the option price using the \"default\" parameters. The second row shows that if the stock price starts above both strikes it tends to generate a higher price of the option than if it started below both strikes. Recall again that we simulated the stocks with an initial price of 100. "
   ]
  },
  {
   "cell_type": "markdown",
   "id": "8122a0a2",
   "metadata": {},
   "source": [
    "# Conclusion:"
   ]
  },
  {
   "cell_type": "markdown",
   "id": "eddcd6b6",
   "metadata": {},
   "source": [
    "In conclusion,  both Fixed Strike Asian and Floating Strike Asian options can exhibit similar behaviors to the same changes in their parameters. Usually, Floating Strike Asian Options tend to have their prices slightly higher than their Fixed Strike counterparts. When using the Geometric averaging their prices are generally lower. Finally, the value of the Supershare option changes based on the initial stock price to generate the simulations but also the lower and upper strike prices."
   ]
  },
  {
   "cell_type": "markdown",
   "id": "301cbe44",
   "metadata": {},
   "source": [
    "**References**:"
   ]
  },
  {
   "cell_type": "markdown",
   "id": "bd82f99b",
   "metadata": {},
   "source": [
    "Reference 1: Dr Bart de Keijzer(2023). Monte Carlo Simulation for Option Pricing.Monte Carlo Valuation of Asian Fixed-Strike Call Option in Python. Scientific Computing in Finance (last slide)."
   ]
  },
  {
   "cell_type": "markdown",
   "id": "ffc09e16",
   "metadata": {},
   "source": [
    "-----"
   ]
  }
 ],
 "metadata": {
  "kernelspec": {
   "display_name": "Python 3",
   "language": "python",
   "name": "python3"
  },
  "language_info": {
   "codemirror_mode": {
    "name": "ipython",
    "version": 3
   },
   "file_extension": ".py",
   "mimetype": "text/x-python",
   "name": "python",
   "nbconvert_exporter": "python",
   "pygments_lexer": "ipython3",
   "version": "3.8.8"
  }
 },
 "nbformat": 4,
 "nbformat_minor": 5
}
